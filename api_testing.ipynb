{
 "cells": [
  {
   "cell_type": "code",
   "execution_count": 110,
   "metadata": {},
   "outputs": [],
   "source": [
    "import requests\n",
    "import keys\n",
    "import datetime\n",
    "import pandas as pd\n",
    "import tweepy\n",
    "import sys\n",
    "from PIL import Image\n",
    "from tempfile import NamedTemporaryFile\n",
    "import os\n",
    "from io import BytesIO\n",
    "import base64"
   ]
  },
  {
   "cell_type": "code",
   "execution_count": 2,
   "metadata": {},
   "outputs": [],
   "source": [
    "NASA_KEY = os.getenv('NASA_KEY')\n",
    "DEEPL_KEY = os.getenv('DEEPL_KEY')\n",
    "TWITTER_KEY = os.getenv('TWITTER_KEY')\n",
    "TWITTER_SECRET = os.getenv('TWITTER_SECRET')\n",
    "TWITTER_TOKEN = os.getenv('TWITTER_TOKEN')\n",
    "TWITTER_TOKEN_SECRET = os.getenv('TWITTER_TOKEN_SECRET')"
   ]
  },
  {
   "cell_type": "code",
   "execution_count": 3,
   "metadata": {},
   "outputs": [],
   "source": [
    "auth = tweepy.OAuth1UserHandler(\n",
    "    consumer_key=keys.twitter_prod_api_key,\n",
    "    consumer_secret=keys.twitter_prod_api_secret\n",
    ")\n",
    "\n",
    "auth.set_access_token(keys.twitter_prod_access_token, keys.twitter_prod_access_secret)\n",
    "api = tweepy.API(auth)"
   ]
  },
  {
   "cell_type": "code",
   "execution_count": 132,
   "metadata": {},
   "outputs": [],
   "source": [
    "# https://apod.nasa.gov/apod/image/2212/c2022E3_ZTF_Bartlett.png\n",
    "# https://apod.nasa.gov/apod/image/2212/M88_2022weebly.jpg\n",
    "regular_url = 'https://apod.nasa.gov/apod/image/2212/c2022E3_ZTF_Bartlett.png'\n",
    "hd_url = 'https://apod.nasa.gov/apod/image/2212/c2022E3_ZTF_Bartlett.png'\n",
    "\n",
    "img_format = hd_url.split('.')[-1]\n",
    "\n",
    "if img_format == 'jpg':\n",
    "    format = 'JPEG'\n",
    "else:\n",
    "    format = img_format.upper()\n",
    "\n",
    "hd_request = requests.get(hd_url, stream=True)\n",
    "hd_img = Image.open(hd_request.raw)\n",
    "hd_bytes = BytesIO()\n",
    "hd_img.save(hd_bytes, format=format)\n",
    "hd_bytesio = BytesIO(hd_bytes.getvalue())\n",
    "\n",
    "regular_request = requests.get(regular_url, stream=True)\n",
    "regular_img = Image.open(regular_request.raw)\n",
    "regular_bytes = BytesIO()\n",
    "regular_img.save(regular_bytes, format=format)\n",
    "regular_bytesio = BytesIO(regular_bytes.getvalue())\n",
    "\n",
    "filename='todays_image'+format.lower()"
   ]
  },
  {
   "cell_type": "code",
   "execution_count": 120,
   "metadata": {},
   "outputs": [],
   "source": [
    "try:\n",
    "    media_response = api.chunked_upload(filename=filename, file=hd_bytesio, media_category='tweet_image', wait_for_async_finalize=True, file_type=format)\n",
    "except:\n",
    "    media_response = api.chunked_upload(filename=filename, file=regular_bytesio, media_category='tweet_image', wait_for_async_finalize=True, file_type=format)"
   ]
  },
  {
   "cell_type": "code",
   "execution_count": 121,
   "metadata": {},
   "outputs": [
    {
     "data": {
      "text/plain": [
       "Media(_api=<tweepy.api.API object at 0x7f87587d60d0>, media_id=1608157051473088512, media_id_string='1608157051473088512', media_key='3_1608157051473088512', size=41543, expires_after_secs=86400, image={'image_type': 'image/jpeg', 'w': 950, 'h': 1148})"
      ]
     },
     "execution_count": 121,
     "metadata": {},
     "output_type": "execute_result"
    }
   ],
   "source": [
    "media_response"
   ]
  },
  {
   "cell_type": "code",
   "execution_count": 122,
   "metadata": {},
   "outputs": [
    {
     "data": {
      "text/plain": [
       "Status(_api=<tweepy.api.API object at 0x7f87587d60d0>, _json={'created_at': 'Wed Dec 28 17:46:04 +0000 2022', 'id': 1608157349713166337, 'id_str': '1608157349713166337', 'text': 'https://t.co/pRQ9EPo311', 'truncated': False, 'entities': {'hashtags': [], 'symbols': [], 'user_mentions': [], 'urls': [], 'media': [{'id': 1608157051473088512, 'id_str': '1608157051473088512', 'indices': [0, 23], 'media_url': 'http://pbs.twimg.com/media/FlFSUWQX0AAN-Vf.jpg', 'media_url_https': 'https://pbs.twimg.com/media/FlFSUWQX0AAN-Vf.jpg', 'url': 'https://t.co/pRQ9EPo311', 'display_url': 'pic.twitter.com/pRQ9EPo311', 'expanded_url': 'https://twitter.com/BotcitoNASA/status/1608157349713166337/photo/1', 'type': 'photo', 'sizes': {'medium': {'w': 950, 'h': 1148, 'resize': 'fit'}, 'thumb': {'w': 150, 'h': 150, 'resize': 'crop'}, 'small': {'w': 563, 'h': 680, 'resize': 'fit'}, 'large': {'w': 950, 'h': 1148, 'resize': 'fit'}}}]}, 'extended_entities': {'media': [{'id': 1608157051473088512, 'id_str': '1608157051473088512', 'indices': [0, 23], 'media_url': 'http://pbs.twimg.com/media/FlFSUWQX0AAN-Vf.jpg', 'media_url_https': 'https://pbs.twimg.com/media/FlFSUWQX0AAN-Vf.jpg', 'url': 'https://t.co/pRQ9EPo311', 'display_url': 'pic.twitter.com/pRQ9EPo311', 'expanded_url': 'https://twitter.com/BotcitoNASA/status/1608157349713166337/photo/1', 'type': 'photo', 'sizes': {'medium': {'w': 950, 'h': 1148, 'resize': 'fit'}, 'thumb': {'w': 150, 'h': 150, 'resize': 'crop'}, 'small': {'w': 563, 'h': 680, 'resize': 'fit'}, 'large': {'w': 950, 'h': 1148, 'resize': 'fit'}}}]}, 'source': '<a href=\"https://twitter.com/BotcitoNASA\" rel=\"nofollow\">BotcitoNasa</a>', 'in_reply_to_status_id': None, 'in_reply_to_status_id_str': None, 'in_reply_to_user_id': None, 'in_reply_to_user_id_str': None, 'in_reply_to_screen_name': None, 'user': {'id': 1605944418028072960, 'id_str': '1605944418028072960', 'name': 'Botcito de la NASA', 'screen_name': 'BotcitoNASA', 'location': '', 'description': 'Hola! Soy un bot que comparte información de la API de la NASA. Me programó @alanvilchis08. De momento estoy en early stage, así que seguro tengo algunas fallas', 'url': None, 'entities': {'description': {'urls': []}}, 'protected': False, 'followers_count': 3, 'friends_count': 2, 'listed_count': 0, 'created_at': 'Thu Dec 22 15:12:50 +0000 2022', 'favourites_count': 0, 'utc_offset': None, 'time_zone': None, 'geo_enabled': False, 'verified': False, 'statuses_count': 31, 'lang': None, 'contributors_enabled': False, 'is_translator': False, 'is_translation_enabled': False, 'profile_background_color': 'F5F8FA', 'profile_background_image_url': None, 'profile_background_image_url_https': None, 'profile_background_tile': False, 'profile_image_url': 'http://pbs.twimg.com/profile_images/1605944501314412546/-Y6WR7E8_normal.jpg', 'profile_image_url_https': 'https://pbs.twimg.com/profile_images/1605944501314412546/-Y6WR7E8_normal.jpg', 'profile_banner_url': 'https://pbs.twimg.com/profile_banners/1605944418028072960/1671722142', 'profile_link_color': '1DA1F2', 'profile_sidebar_border_color': 'C0DEED', 'profile_sidebar_fill_color': 'DDEEF6', 'profile_text_color': '333333', 'profile_use_background_image': True, 'has_extended_profile': True, 'default_profile': True, 'default_profile_image': False, 'following': False, 'follow_request_sent': False, 'notifications': False, 'translator_type': 'none', 'withheld_in_countries': []}, 'geo': None, 'coordinates': None, 'place': None, 'contributors': None, 'is_quote_status': False, 'retweet_count': 0, 'favorite_count': 0, 'favorited': False, 'retweeted': False, 'possibly_sensitive': False, 'lang': 'zxx'}, created_at=datetime.datetime(2022, 12, 28, 17, 46, 4, tzinfo=datetime.timezone.utc), id=1608157349713166337, id_str='1608157349713166337', text='https://t.co/pRQ9EPo311', truncated=False, entities={'hashtags': [], 'symbols': [], 'user_mentions': [], 'urls': [], 'media': [{'id': 1608157051473088512, 'id_str': '1608157051473088512', 'indices': [0, 23], 'media_url': 'http://pbs.twimg.com/media/FlFSUWQX0AAN-Vf.jpg', 'media_url_https': 'https://pbs.twimg.com/media/FlFSUWQX0AAN-Vf.jpg', 'url': 'https://t.co/pRQ9EPo311', 'display_url': 'pic.twitter.com/pRQ9EPo311', 'expanded_url': 'https://twitter.com/BotcitoNASA/status/1608157349713166337/photo/1', 'type': 'photo', 'sizes': {'medium': {'w': 950, 'h': 1148, 'resize': 'fit'}, 'thumb': {'w': 150, 'h': 150, 'resize': 'crop'}, 'small': {'w': 563, 'h': 680, 'resize': 'fit'}, 'large': {'w': 950, 'h': 1148, 'resize': 'fit'}}}]}, extended_entities={'media': [{'id': 1608157051473088512, 'id_str': '1608157051473088512', 'indices': [0, 23], 'media_url': 'http://pbs.twimg.com/media/FlFSUWQX0AAN-Vf.jpg', 'media_url_https': 'https://pbs.twimg.com/media/FlFSUWQX0AAN-Vf.jpg', 'url': 'https://t.co/pRQ9EPo311', 'display_url': 'pic.twitter.com/pRQ9EPo311', 'expanded_url': 'https://twitter.com/BotcitoNASA/status/1608157349713166337/photo/1', 'type': 'photo', 'sizes': {'medium': {'w': 950, 'h': 1148, 'resize': 'fit'}, 'thumb': {'w': 150, 'h': 150, 'resize': 'crop'}, 'small': {'w': 563, 'h': 680, 'resize': 'fit'}, 'large': {'w': 950, 'h': 1148, 'resize': 'fit'}}}]}, source='BotcitoNasa', source_url='https://twitter.com/BotcitoNASA', in_reply_to_status_id=None, in_reply_to_status_id_str=None, in_reply_to_user_id=None, in_reply_to_user_id_str=None, in_reply_to_screen_name=None, author=User(_api=<tweepy.api.API object at 0x7f87587d60d0>, _json={'id': 1605944418028072960, 'id_str': '1605944418028072960', 'name': 'Botcito de la NASA', 'screen_name': 'BotcitoNASA', 'location': '', 'description': 'Hola! Soy un bot que comparte información de la API de la NASA. Me programó @alanvilchis08. De momento estoy en early stage, así que seguro tengo algunas fallas', 'url': None, 'entities': {'description': {'urls': []}}, 'protected': False, 'followers_count': 3, 'friends_count': 2, 'listed_count': 0, 'created_at': 'Thu Dec 22 15:12:50 +0000 2022', 'favourites_count': 0, 'utc_offset': None, 'time_zone': None, 'geo_enabled': False, 'verified': False, 'statuses_count': 31, 'lang': None, 'contributors_enabled': False, 'is_translator': False, 'is_translation_enabled': False, 'profile_background_color': 'F5F8FA', 'profile_background_image_url': None, 'profile_background_image_url_https': None, 'profile_background_tile': False, 'profile_image_url': 'http://pbs.twimg.com/profile_images/1605944501314412546/-Y6WR7E8_normal.jpg', 'profile_image_url_https': 'https://pbs.twimg.com/profile_images/1605944501314412546/-Y6WR7E8_normal.jpg', 'profile_banner_url': 'https://pbs.twimg.com/profile_banners/1605944418028072960/1671722142', 'profile_link_color': '1DA1F2', 'profile_sidebar_border_color': 'C0DEED', 'profile_sidebar_fill_color': 'DDEEF6', 'profile_text_color': '333333', 'profile_use_background_image': True, 'has_extended_profile': True, 'default_profile': True, 'default_profile_image': False, 'following': False, 'follow_request_sent': False, 'notifications': False, 'translator_type': 'none', 'withheld_in_countries': []}, id=1605944418028072960, id_str='1605944418028072960', name='Botcito de la NASA', screen_name='BotcitoNASA', location='', description='Hola! Soy un bot que comparte información de la API de la NASA. Me programó @alanvilchis08. De momento estoy en early stage, así que seguro tengo algunas fallas', url=None, entities={'description': {'urls': []}}, protected=False, followers_count=3, friends_count=2, listed_count=0, created_at=datetime.datetime(2022, 12, 22, 15, 12, 50, tzinfo=datetime.timezone.utc), favourites_count=0, utc_offset=None, time_zone=None, geo_enabled=False, verified=False, statuses_count=31, lang=None, contributors_enabled=False, is_translator=False, is_translation_enabled=False, profile_background_color='F5F8FA', profile_background_image_url=None, profile_background_image_url_https=None, profile_background_tile=False, profile_image_url='http://pbs.twimg.com/profile_images/1605944501314412546/-Y6WR7E8_normal.jpg', profile_image_url_https='https://pbs.twimg.com/profile_images/1605944501314412546/-Y6WR7E8_normal.jpg', profile_banner_url='https://pbs.twimg.com/profile_banners/1605944418028072960/1671722142', profile_link_color='1DA1F2', profile_sidebar_border_color='C0DEED', profile_sidebar_fill_color='DDEEF6', profile_text_color='333333', profile_use_background_image=True, has_extended_profile=True, default_profile=True, default_profile_image=False, following=False, follow_request_sent=False, notifications=False, translator_type='none', withheld_in_countries=[]), user=User(_api=<tweepy.api.API object at 0x7f87587d60d0>, _json={'id': 1605944418028072960, 'id_str': '1605944418028072960', 'name': 'Botcito de la NASA', 'screen_name': 'BotcitoNASA', 'location': '', 'description': 'Hola! Soy un bot que comparte información de la API de la NASA. Me programó @alanvilchis08. De momento estoy en early stage, así que seguro tengo algunas fallas', 'url': None, 'entities': {'description': {'urls': []}}, 'protected': False, 'followers_count': 3, 'friends_count': 2, 'listed_count': 0, 'created_at': 'Thu Dec 22 15:12:50 +0000 2022', 'favourites_count': 0, 'utc_offset': None, 'time_zone': None, 'geo_enabled': False, 'verified': False, 'statuses_count': 31, 'lang': None, 'contributors_enabled': False, 'is_translator': False, 'is_translation_enabled': False, 'profile_background_color': 'F5F8FA', 'profile_background_image_url': None, 'profile_background_image_url_https': None, 'profile_background_tile': False, 'profile_image_url': 'http://pbs.twimg.com/profile_images/1605944501314412546/-Y6WR7E8_normal.jpg', 'profile_image_url_https': 'https://pbs.twimg.com/profile_images/1605944501314412546/-Y6WR7E8_normal.jpg', 'profile_banner_url': 'https://pbs.twimg.com/profile_banners/1605944418028072960/1671722142', 'profile_link_color': '1DA1F2', 'profile_sidebar_border_color': 'C0DEED', 'profile_sidebar_fill_color': 'DDEEF6', 'profile_text_color': '333333', 'profile_use_background_image': True, 'has_extended_profile': True, 'default_profile': True, 'default_profile_image': False, 'following': False, 'follow_request_sent': False, 'notifications': False, 'translator_type': 'none', 'withheld_in_countries': []}, id=1605944418028072960, id_str='1605944418028072960', name='Botcito de la NASA', screen_name='BotcitoNASA', location='', description='Hola! Soy un bot que comparte información de la API de la NASA. Me programó @alanvilchis08. De momento estoy en early stage, así que seguro tengo algunas fallas', url=None, entities={'description': {'urls': []}}, protected=False, followers_count=3, friends_count=2, listed_count=0, created_at=datetime.datetime(2022, 12, 22, 15, 12, 50, tzinfo=datetime.timezone.utc), favourites_count=0, utc_offset=None, time_zone=None, geo_enabled=False, verified=False, statuses_count=31, lang=None, contributors_enabled=False, is_translator=False, is_translation_enabled=False, profile_background_color='F5F8FA', profile_background_image_url=None, profile_background_image_url_https=None, profile_background_tile=False, profile_image_url='http://pbs.twimg.com/profile_images/1605944501314412546/-Y6WR7E8_normal.jpg', profile_image_url_https='https://pbs.twimg.com/profile_images/1605944501314412546/-Y6WR7E8_normal.jpg', profile_banner_url='https://pbs.twimg.com/profile_banners/1605944418028072960/1671722142', profile_link_color='1DA1F2', profile_sidebar_border_color='C0DEED', profile_sidebar_fill_color='DDEEF6', profile_text_color='333333', profile_use_background_image=True, has_extended_profile=True, default_profile=True, default_profile_image=False, following=False, follow_request_sent=False, notifications=False, translator_type='none', withheld_in_countries=[]), geo=None, coordinates=None, place=None, contributors=None, is_quote_status=False, retweet_count=0, favorite_count=0, favorited=False, retweeted=False, possibly_sensitive=False, lang='zxx')"
      ]
     },
     "execution_count": 122,
     "metadata": {},
     "output_type": "execute_result"
    }
   ],
   "source": [
    "api.update_status(status='', media_ids=[media_response.media_id_string])"
   ]
  }
 ],
 "metadata": {
  "kernelspec": {
   "display_name": "venv",
   "language": "python",
   "name": "python3"
  },
  "language_info": {
   "codemirror_mode": {
    "name": "ipython",
    "version": 3
   },
   "file_extension": ".py",
   "mimetype": "text/x-python",
   "name": "python",
   "nbconvert_exporter": "python",
   "pygments_lexer": "ipython3",
   "version": "3.11.1"
  },
  "orig_nbformat": 4,
  "vscode": {
   "interpreter": {
    "hash": "0827817c4d0ef9b0b80fa15a2407d479c6d96aefe478168a74d42f9cfd6b64df"
   }
  }
 },
 "nbformat": 4,
 "nbformat_minor": 2
}
